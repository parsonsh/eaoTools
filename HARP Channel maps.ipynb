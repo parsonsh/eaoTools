{
 "cells": [
  {
   "cell_type": "markdown",
   "metadata": {},
   "source": [
    "trying to use: http://leejjoon.github.io/matplotlib_astronomy_gallery/ic443/ic443_channel_map.html "
   ]
  },
  {
   "cell_type": "code",
   "execution_count": 2,
   "metadata": {},
   "outputs": [
    {
     "ename": "ModuleNotFoundError",
     "evalue": "No module named 'pywcsgrid2'",
     "output_type": "error",
     "traceback": [
      "\u001b[0;31m---------------------------------------------------------------------------\u001b[0m",
      "\u001b[0;31mModuleNotFoundError\u001b[0m                       Traceback (most recent call last)",
      "\u001b[0;32m<ipython-input-2-d0d0c9cbe264>\u001b[0m in \u001b[0;36m<module>\u001b[0;34m()\u001b[0m\n\u001b[1;32m      1\u001b[0m \u001b[0;32mimport\u001b[0m \u001b[0mmatplotlib\u001b[0m\u001b[0;34m.\u001b[0m\u001b[0mpyplot\u001b[0m \u001b[0;32mas\u001b[0m \u001b[0mplt\u001b[0m\u001b[0;34m\u001b[0m\u001b[0m\n\u001b[0;32m----> 2\u001b[0;31m \u001b[0;32mimport\u001b[0m \u001b[0mpywcsgrid2\u001b[0m\u001b[0;34m\u001b[0m\u001b[0m\n\u001b[0m\u001b[1;32m      3\u001b[0m \u001b[0;32mimport\u001b[0m \u001b[0mpywcs\u001b[0m\u001b[0;34m\u001b[0m\u001b[0m\n\u001b[1;32m      4\u001b[0m \u001b[0;34m\u001b[0m\u001b[0m\n\u001b[1;32m      5\u001b[0m \u001b[0;32mimport\u001b[0m \u001b[0mmpl_toolkits\u001b[0m\u001b[0;34m.\u001b[0m\u001b[0maxes_grid1\u001b[0m\u001b[0;34m.\u001b[0m\u001b[0maxes_grid\u001b[0m \u001b[0;32mas\u001b[0m \u001b[0maxes_grid\u001b[0m\u001b[0;34m\u001b[0m\u001b[0m\n",
      "\u001b[0;31mModuleNotFoundError\u001b[0m: No module named 'pywcsgrid2'"
     ]
    }
   ],
   "source": [
    "import matplotlib.pyplot as plt\n",
    "import pywcsgrid2\n",
    "import pywcs\n",
    "\n",
    "import mpl_toolkits.axes_grid1.axes_grid as axes_grid\n",
    "#from mpl_toolkits.axes_grid.colorbar import colorbar\n",
    "from mpl_toolkits.axes_grid1.inset_locator import inset_axes\n",
    "\n",
    "import pyfits"
   ]
  },
  {
   "cell_type": "code",
   "execution_count": 4,
   "metadata": {
    "collapsed": true
   },
   "outputs": [],
   "source": [
    "class Velo(object):\n",
    "    def __init__(self, header):\n",
    "        wcs = pywcs.WCS(header)\n",
    "        self.wcs_vel = wcs.sub([3])\n",
    "\n",
    "    def to_vel(self, p):\n",
    "        v = self.wcs_vel.wcs_pix2sky([[p]], 0)\n",
    "        return v[0][0]\n"
   ]
  },
  {
   "cell_type": "code",
   "execution_count": 5,
   "metadata": {
    "collapsed": true
   },
   "outputs": [],
   "source": [
    "def setup_axes(fig, header):\n",
    "\n",
    "    gh = pywcsgrid2.GridHelper(wcs=header)\n",
    "    gh.locator_params(nbins=3)\n",
    "\n",
    "    g = axes_grid.ImageGrid(fig, 111,\n",
    "                            nrows_ncols=(5, 4),\n",
    "                            ngrids=None,\n",
    "                            direction='row',\n",
    "                            axes_pad=0.02, add_all=True,\n",
    "                            share_all=True, aspect=True,\n",
    "                            label_mode='L', cbar_mode=None,\n",
    "                            axes_class=(pywcsgrid2.Axes, dict(grid_helper=gh)))\n",
    "\n",
    "    # make colorbar\n",
    "    ax = g[-1]\n",
    "    cax = inset_axes(ax,\n",
    "                     width=\"8%\", # width = 10% of parent_bbox width\n",
    "                     height=\"100%\", # height : 50%\n",
    "                     loc=3,\n",
    "                     bbox_to_anchor=(1.01, 0, 1, 1),\n",
    "                     bbox_transform=ax.transAxes,\n",
    "                     borderpad=0.\n",
    "                     )\n",
    "\n",
    "    return g, cax\n"
   ]
  },
  {
   "cell_type": "code",
   "execution_count": null,
   "metadata": {
    "collapsed": true
   },
   "outputs": [],
   "source": [
    "fits_cube = pyfits.open(\"\") # need to provide 3d 12co cube\n",
    "header = fits_cube[0].header"
   ]
  },
  {
   "cell_type": "code",
   "execution_count": null,
   "metadata": {
    "collapsed": true
   },
   "outputs": [],
   "source": []
  },
  {
   "cell_type": "code",
   "execution_count": null,
   "metadata": {
    "collapsed": true
   },
   "outputs": [],
   "source": []
  },
  {
   "cell_type": "markdown",
   "metadata": {},
   "source": [
    "if needed I made files by hand to provide:"
   ]
  },
  {
   "cell_type": "code",
   "execution_count": 1,
   "metadata": {
    "collapsed": true
   },
   "outputs": [],
   "source": [
    "fits_12co_cm0 = '/Users/hparsons/Documents/EAO/Research/JellyFish/data/12co/channelmap/CO_cube_field_South_1_collapse_0.fits'\n",
    "fits_12co_cm2 = '/Users/hparsons/Documents/EAO/Research/JellyFish/data/12co/channelmap/CO_cube_field_South_1_collapse_2.fits'\n",
    "fits_12co_cm4 = '/Users/hparsons/Documents/EAO/Research/JellyFish/data/12co/channelmap/CO_cube_field_South_1_collapse_4.fits'\n",
    "fits_12co_cm6 = '/Users/hparsons/Documents/EAO/Research/JellyFish/data/12co/channelmap/CO_cube_field_South_1_collapse_6.fits'\n",
    "fits_12co_cm8 = '/Users/hparsons/Documents/EAO/Research/JellyFish/data/12co/channelmap/CO_cube_field_South_1_collapse_8.fits'\n",
    "fits_12co_cm10 = '/Users/hparsons/Documents/EAO/Research/JellyFish/data/12co/channelmap/CO_cube_field_South_1_collapse_10.fits'\n",
    "fits_12co_cm16 = '/Users/hparsons/Documents/EAO/Research/JellyFish/data/12co/channelmap/CO_cube_field_South_1_collapse_16.fits'\n",
    "fits_12co_cm16 = '/Users/hparsons/Documents/EAO/Research/JellyFish/data/12co/channelmap/CO_cube_field_South_1_collapse_18.fits'\n",
    "fits_12co_cm20 = '/Users/hparsons/Documents/EAO/Research/JellyFish/data/12co/channelmap/CO_cube_field_South_1_collapse_20.fits'\n",
    "fits_12co_cm22 = '/Users/hparsons/Documents/EAO/Research/JellyFish/data/12co/channelmap/CO_cube_field_South_1_collapse_22.fits'\n",
    "fits_12co_cm24 = '/Users/hparsons/Documents/EAO/Research/JellyFish/data/12co/channelmap/CO_cube_field_South_1_collapse_24.fits'\n",
    "fits_12co_cm26 = '/Users/hparsons/Documents/EAO/Research/JellyFish/data/12co/channelmap/CO_cube_field_South_1_collapse_26.fits'\n",
    "fits_12co_cm28 = '/Users/hparsons/Documents/EAO/Research/JellyFish/data/12co/channelmap/CO_cube_field_South_1_collapse_28.fits'\n"
   ]
  }
 ],
 "metadata": {
  "kernelspec": {
   "display_name": "Python 3",
   "language": "python",
   "name": "python3"
  },
  "language_info": {
   "codemirror_mode": {
    "name": "ipython",
    "version": 3
   },
   "file_extension": ".py",
   "mimetype": "text/x-python",
   "name": "python",
   "nbconvert_exporter": "python",
   "pygments_lexer": "ipython3",
   "version": "3.6.1"
  }
 },
 "nbformat": 4,
 "nbformat_minor": 2
}
