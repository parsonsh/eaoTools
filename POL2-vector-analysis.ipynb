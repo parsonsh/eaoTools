{
 "cells": [
  {
   "cell_type": "markdown",
   "metadata": {},
   "source": [
    "# POL-2 Half Vectors Analysis\n",
    "\n",
    "Working on producing various comparion plots of the half-vectors of the Jellyfish - going region by region. I need to also note/deal with the 0/180 degeneracy that occurs. Also need to ensure I rotate angles by 90degrees. "
   ]
  },
  {
   "cell_type": "markdown",
   "metadata": {},
   "source": [
    "see: http://www.astropy.org/astropy-tutorials/plot-catalog.html\n",
    "\n",
    "and \n",
    "\n",
    "see: https://stackoverflow.com/questions/14827650/pyplot-scatter-plot-marker-size"
   ]
  },
  {
   "cell_type": "code",
   "execution_count": 1,
   "metadata": {
    "collapsed": true
   },
   "outputs": [],
   "source": [
    "import os\n",
    "\n",
    "import matplotlib as mpl\n",
    "import matplotlib.pyplot as plt\n",
    "\n",
    "from astropy.io import fits\n",
    "from astropy.io import ascii\n",
    "from astropy.visualization import ImageNormalize, SqrtStretch\n",
    "from astropy.wcs import WCS\n",
    "from astropy.visualization.wcsaxes import WCSAxesSubplot\n",
    "from astropy.coordinates import SkyCoord\n",
    "\n",
    "\n",
    "from astropy.table import Table, Column\n",
    "import astropy.units as u\n",
    "import numpy as np\n",
    "import aplpy"
   ]
  },
  {
   "cell_type": "code",
   "execution_count": 62,
   "metadata": {
    "collapsed": true
   },
   "outputs": [],
   "source": [
    "%matplotlib inline"
   ]
  },
  {
   "cell_type": "code",
   "execution_count": 98,
   "metadata": {
    "collapsed": true
   },
   "outputs": [],
   "source": [
    "# want to make calculating and adding l and b into a mathod:\n",
    "\n",
    "def calculate_lb(self):   # calculate l and b is a method\n",
    "    '''calculate the l and b from a generic POL-2 vector catalog containing RA and DEC'''\n",
    "    ldeg = []\n",
    "    bdeg = []\n",
    "    for x in range(len(self['X'])):\n",
    "        rarad = self['RA'][x]*u.radian\n",
    "        decrad = self['DEC'][x]*u.radian\n",
    "        c = SkyCoord(rarad, decrad).galactic\n",
    "        l = c.l.deg\n",
    "        b = c.b.deg\n",
    "        ldeg.append(l)\n",
    "        bdeg.append(b)\n",
    "        \n",
    "    ldeg = Column(ldeg, name='ldeg')\n",
    "    bdeg = Column(bdeg, name='bdeg')\n",
    "\n",
    "    try:\n",
    "        if self['ldeg'].any:\n",
    "            print ('column exists (ldeg)')\n",
    "    except:\n",
    "        print ('column does not exist')\n",
    "        self.add_columns([ldeg])\n",
    "        print ('added fileprovided[ldeg]')\n",
    "\n",
    "    try:\n",
    "        if self['bdeg'].any:\n",
    "            print ('column exists (bdeg)')\n",
    "    except:\n",
    "        print ('column does not exist')\n",
    "        self.add_columns([bdeg])\n",
    "        print ('added fileprovided[bdeg]')   \n",
    "#     return self\n",
    "\n",
    "# want to make calculating the B angle into a mathod:\n",
    "\n",
    "def calculate_bang(self): # calculates the B angle (POL-2 angle + 90)\n",
    "    '''calculate the B angle from POL-2 vector catalog containing ANG (simply add 90)'''\n",
    "    bang = []\n",
    "    for x in range(len(self['X'])):\n",
    "        ang = self['ANG'][x]\n",
    "        newang = ang+90.0\n",
    "        bang.append(newang)\n",
    "    bang = Column(bang, name='bang')    \n",
    "    try:\n",
    "        if self['bang'].any:\n",
    "            print ('column exists (bang)')\n",
    "    except:\n",
    "        print ('column does not exist')\n",
    "        self.add_columns([bang])\n",
    "        print ('added fileprovided[bang]')\n",
    "#     return self"
   ]
  },
  {
   "cell_type": "code",
   "execution_count": 116,
   "metadata": {},
   "outputs": [
    {
     "name": "stdout",
     "output_type": "stream",
     "text": [
      "running on mac\n"
     ]
    }
   ],
   "source": [
    "\n",
    "try:\n",
    "    print (\"running on mac\")\n",
    "    pol2path450 = '/Users/hparsons/Documents/EAO/Research/JellyFish/data/POL2/450/'\n",
    "    pol2path850 = '/Users/hparsons/Documents/EAO/Research/JellyFish/data/POL2/850/'\n",
    "    \n",
    "    BellTop3 = pol2path850 + 'ard_Bell-Top-selcat-3-3-3.FIT'\n",
    "    BellTop5 = pol2path850 + 'ard_Bell-Top-selcat-5-5-5.FIT'\n",
    "\n",
    "    Leg1a3 = pol2path850 + 'ard_Leg-1a-selcat-3-3-3.FIT'\n",
    "    Leg1a5 = pol2path850 + 'ard_Leg-1a-selcat-5-5-5.FIT'\n",
    "    Leg1b3 = pol2path850 + 'ard_Leg-1b-selcat-3-3-3.FIT'\n",
    "    Leg1b5 = pol2path850 + 'ard_Leg-1b-selcat-5-5-5.FIT'\n",
    "    Leg2a3 = pol2path850 + 'ard_Leg-2a-selcat-3-3-3.FIT'\n",
    "    Leg2a5 = pol2path850 + 'ard_Leg-2a-selcat-5-5-5.FIT'\n",
    "#     ard_Leg-2b-selcat-3-3-3.FIT\n",
    "#     ard_Leg-2b-selcat-5-5-5.FIT\n",
    "#     ard_Leg-3a-selcat-3-3-3.FIT\n",
    "#     ard_Leg-3a-selcat-5-5-5.FIT\n",
    "#     ard_Leg-4a-selcat-3-3-3.FIT\n",
    "#     ard_Leg-4a-selcat-5-5-5.FIT\n",
    "#     ard_Leg-5a-selcat-3-3-3.FIT\n",
    "#     ard_Leg-5a-selcat-5-5-5.FIT\n",
    "\n",
    "    BrightBlue3 = pol2path850 + 'ard_Outflow-Birght-Blue-selcat-3-3-3.FIT'\n",
    "    BrightBlue5 = pol2path850 + 'ard_Outflow-Birght-Blue-selcat-5-5-5.FIT'\n",
    "    BrightRed3 = pol2path850 + 'ard_Outflow-Birght-Red-selcat-3-3-3.FIT'\n",
    "    BrightRed5 = pol2path850 + 'ard_Outflow-Birght-Red-selcat-5-5-5.FIT'\n",
    "    Faint3 = pol2path850 + 'ard_Outflow-Faint-selcat-3-3-3.FIT'\n",
    "    Faint5 = pol2path850 + 'ard_Outflow-Faint-selcat-5-5-5.FIT'\n",
    "    All3 = pol2path850 + 'selcat-3-3-3.FIT'\n",
    "    All5 =pol2path850 + 'selcat-5-5-5.FIT'\n",
    "\n",
    "\n",
    "except:\n",
    "    print (\"running on kukui\")"
   ]
  },
  {
   "cell_type": "code",
   "execution_count": 117,
   "metadata": {},
   "outputs": [],
   "source": [
    "#fits_image_filename = fits.util.get_testdata_filepath('test0.fits')\n",
    "\n",
    "# pick 3 sigma or 5 sigma\n",
    "\n",
    "vectors_All = Table.read(All3)\n",
    "\n",
    "vectors_BellTop = Table.read(BellTop3)\n",
    "vectors_BrightBlue = Table.read(BrightBlue3)\n",
    "vectors_BrightRed = Table.read(BrightRed3)\n",
    "vectors_Faint =  Table.read(Faint3)\n",
    "\n",
    "vectors_Leg1a = Table.read(Leg1a3)\n",
    "vectors_Leg2a = Table.read(Leg2a3)\n"
   ]
  },
  {
   "cell_type": "code",
   "execution_count": 118,
   "metadata": {},
   "outputs": [
    {
     "name": "stdout",
     "output_type": "stream",
     "text": [
      "column does not exist\n",
      "added fileprovided[ldeg]\n",
      "column does not exist\n",
      "added fileprovided[bdeg]\n",
      "column does not exist\n",
      "added fileprovided[ldeg]\n",
      "column does not exist\n",
      "added fileprovided[bdeg]\n",
      "column does not exist\n",
      "added fileprovided[ldeg]\n",
      "column does not exist\n",
      "added fileprovided[bdeg]\n",
      "column does not exist\n",
      "added fileprovided[ldeg]\n",
      "column does not exist\n",
      "added fileprovided[bdeg]\n",
      "column does not exist\n",
      "added fileprovided[ldeg]\n",
      "column does not exist\n",
      "added fileprovided[bdeg]\n",
      "column does not exist\n",
      "added fileprovided[ldeg]\n",
      "column does not exist\n",
      "added fileprovided[bdeg]\n",
      "column does not exist\n",
      "added fileprovided[ldeg]\n",
      "column does not exist\n",
      "added fileprovided[bdeg]\n",
      "column does not exist\n",
      "added fileprovided[bang]\n",
      "column does not exist\n",
      "added fileprovided[bang]\n",
      "column does not exist\n",
      "added fileprovided[bang]\n",
      "column does not exist\n",
      "added fileprovided[bang]\n",
      "column does not exist\n",
      "added fileprovided[bang]\n",
      "column does not exist\n",
      "added fileprovided[bang]\n",
      "column does not exist\n",
      "added fileprovided[bang]\n"
     ]
    }
   ],
   "source": [
    "calculate_lb(vectors_All)\n",
    "\n",
    "calculate_lb(vectors_BellTop)\n",
    "calculate_lb(vectors_BrightBlue)\n",
    "calculate_lb(vectors_BrightRed)\n",
    "calculate_lb(vectors_Faint)\n",
    "\n",
    "calculate_lb(vectors_Leg1a)\n",
    "calculate_lb(vectors_Leg2a)\n",
    "\n",
    "calculate_bang(vectors_All)\n",
    "\n",
    "calculate_bang(vectors_BellTop)\n",
    "calculate_bang(vectors_BrightBlue)\n",
    "calculate_bang(vectors_BrightRed)\n",
    "calculate_bang(vectors_Faint)\n",
    "\n",
    "calculate_bang(vectors_Leg1a)\n",
    "calculate_bang(vectors_Leg2a)"
   ]
  },
  {
   "cell_type": "code",
   "execution_count": 134,
   "metadata": {},
   "outputs": [
    {
     "data": {
      "image/png": "[encoded data removed]",
      "text/plain": [
       "<matplotlib.figure.Figure at 0x1175ff8d0>"
      ]
     },
     "metadata": {},
     "output_type": "display_data"
    }
   ],
   "source": [
    "plt.figure()\n",
    "\n",
    "x = vectors_All['ldeg']\n",
    "y = vectors_All['bdeg']\n",
    "\n",
    "x1 = vectors_BellTop['ldeg']\n",
    "y1 = vectors_BellTop['bdeg']\n",
    "\n",
    "x2 = vectors_BrightBlue['ldeg']\n",
    "y2 = vectors_BrightBlue['bdeg']\n",
    "\n",
    "x3 = vectors_BrightRed['ldeg']\n",
    "y3 = vectors_BrightRed['bdeg']\n",
    "\n",
    "x4 = vectors_Faint['ldeg']\n",
    "y4 = vectors_Faint['bdeg']\n",
    "\n",
    "\n",
    "x5 = vectors_Leg1a['ldeg']\n",
    "y5 = vectors_Leg2a['bdeg']\n",
    "\n",
    "x6 = vectors_Leg2a['ldeg']\n",
    "y6 = vectors_Leg2a['bdeg']\n",
    "\n",
    "x7 = vectors_BrightBlue['ldeg']\n",
    "y7 = vectors_BrightBlue['bdeg']\n",
    "\n",
    "\n",
    "plt.scatter(x, y, marker='o', color='orange', s=50, label='All vectors')\n",
    "plt.scatter(x2, y2, marker='o', color='blue', s=10, label='Blue vectors')\n",
    "plt.xlabel('l')\n",
    "plt.ylabel('b')\n",
    "\n",
    "plt.legend()\n",
    "\n",
    "plt.gca().invert_xaxis()\n",
    "\n",
    "\n",
    "#vectors_BellTop\n",
    "\n",
    "#### LEG1A does not look correct!!!"
   ]
  },
  {
   "cell_type": "code",
   "execution_count": 93,
   "metadata": {},
   "outputs": [
    {
     "data": {
      "text/plain": [
       "<matplotlib.text.Text at 0x116808f60>"
      ]
     },
     "execution_count": 93,
     "metadata": {},
     "output_type": "execute_result"
    },
    {
     "data": {
      "image/png": "[encoded data removed]",
      "text/plain": [
       "<matplotlib.figure.Figure at 0x116844400>"
      ]
     },
     "metadata": {},
     "output_type": "display_data"
    }
   ],
   "source": [
    "# Now we will create a histogram of our B angles\n",
    "plt.figure()\n",
    "plt.hist(vectors_Leg1a3['bang'], label='default', histtype='step')\n",
    "\n",
    "# plt.hist(vectors_BrightBlue5['bang'], label='default', histtype='step')\n",
    "# plt.hist(vectors_BrightRed5['bang'], label='default', histtype='step', alpha=0.5)\n",
    "plt.xlabel('Angle')\n",
    "plt.ylabel('Number')\n",
    "plt.title('angle inspection')\n",
    "\n"
   ]
  },
  {
   "cell_type": "code",
   "execution_count": 97,
   "metadata": {},
   "outputs": [
    {
     "data": {
      "text/plain": [
       "<matplotlib.text.Text at 0x1168b5080>"
      ]
     },
     "execution_count": 97,
     "metadata": {},
     "output_type": "execute_result"
    },
    {
     "data": {
      "image/png": "[encoded data removed]",
      "text/plain": [
       "<matplotlib.figure.Figure at 0x11687b1d0>"
      ]
     },
     "metadata": {},
     "output_type": "display_data"
    }
   ],
   "source": []
  },
  {
   "cell_type": "code",
   "execution_count": null,
   "metadata": {
    "collapsed": true
   },
   "outputs": [],
   "source": []
  }
 ],
 "metadata": {
  "kernelspec": {
   "display_name": "Python 3",
   "language": "python",
   "name": "python3"
  },
  "language_info": {
   "codemirror_mode": {
    "name": "ipython",
    "version": 3
   },
   "file_extension": ".py",
   "mimetype": "text/x-python",
   "name": "python",
   "nbconvert_exporter": "python",
   "pygments_lexer": "ipython3",
   "version": "3.6.1"
  }
 },
 "nbformat": 4,
 "nbformat_minor": 2
}
