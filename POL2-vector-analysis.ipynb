{
 "cells": [
  {
   "cell_type": "markdown",
   "metadata": {},
   "source": [
    "# POL-2 Half Vectors Analysis\n",
    "\n",
    "Working on producing various comparion plots of the half-vectors of the Jellyfish - going region by region. I need to also note/deal with the 0/180 degeneracy that occurs. Also need to ensure I rotate angles by 90degrees. "
   ]
  },
  {
   "cell_type": "markdown",
   "metadata": {},
   "source": [
    "see: http://www.astropy.org/astropy-tutorials/plot-catalog.html\n",
    "\n",
    "and \n",
    "\n",
    "see: https://stackoverflow.com/questions/14827650/pyplot-scatter-plot-marker-size\n",
    "\n",
    "\n",
    "angle wrapping:\n",
    "\n",
    "see: http://docs.astropy.org/en/stable/coordinates/angles.html"
   ]
  },
  {
   "cell_type": "code",
   "execution_count": 17,
   "metadata": {},
   "outputs": [],
   "source": [
    "import os\n",
    "\n",
    "import matplotlib as mpl\n",
    "import matplotlib.pyplot as plt\n",
    "\n",
    "from astropy.io import fits\n",
    "from astropy.io import ascii\n",
    "from astropy.visualization import ImageNormalize, SqrtStretch\n",
    "from astropy.wcs import WCS\n",
    "from astropy.visualization.wcsaxes import WCSAxesSubplot\n",
    "from astropy.coordinates import SkyCoord\n",
    "from astropy.coordinates import Angle\n",
    "\n",
    "\n",
    "from astropy.table import Table, Column\n",
    "import astropy.units as u\n",
    "import numpy as np\n",
    "import aplpy\n",
    "\n",
    "\n",
    "import matplotlib.cm as cm\n",
    "from matplotlib.pyplot import figure, show, rc\n"
   ]
  },
  {
   "cell_type": "code",
   "execution_count": 2,
   "metadata": {
    "collapsed": true
   },
   "outputs": [],
   "source": [
    "%matplotlib inline"
   ]
  },
  {
   "cell_type": "code",
   "execution_count": 3,
   "metadata": {
    "collapsed": true
   },
   "outputs": [],
   "source": [
    "# want to make calculating and adding l and b into a mathod:\n",
    "\n",
    "def calculate_lb(self):   # calculate l and b is a method\n",
    "    '''calculate the l and b from a generic POL-2 vector catalog containing RA and DEC'''\n",
    "    ldeg = []\n",
    "    bdeg = []\n",
    "    for x in range(len(self['X'])):\n",
    "        rarad = self['RA'][x]*u.radian\n",
    "        decrad = self['DEC'][x]*u.radian\n",
    "        c = SkyCoord(rarad, decrad).galactic\n",
    "        l = c.l.deg\n",
    "        b = c.b.deg\n",
    "        ldeg.append(l)\n",
    "        bdeg.append(b)\n",
    "        \n",
    "    ldeg = Column(ldeg, name='ldeg')\n",
    "    bdeg = Column(bdeg, name='bdeg')\n",
    "\n",
    "    try:\n",
    "        if self['ldeg'].any:\n",
    "            print ('column exists (ldeg)')\n",
    "    except:\n",
    "        print ('column does not exist')\n",
    "        self.add_columns([ldeg])\n",
    "        print ('added fileprovided[ldeg]')\n",
    "\n",
    "    try:\n",
    "        if self['bdeg'].any:\n",
    "            print ('column exists (bdeg)')\n",
    "    except:\n",
    "        print ('column does not exist')\n",
    "        self.add_columns([bdeg])\n",
    "        print ('added fileprovided[bdeg]')   \n",
    "#     return self\n",
    "\n",
    "\n",
    "\n",
    "# want to make calculating the B angle into a method:\n",
    "\n",
    "def calculate_bang(self,selfname): # calculates the B angle (POL-2 angle + 90)\n",
    "    '''calculate the B angle from POL-2 vector catalog containing ANG (simply add 90)'''\n",
    "    bang = []\n",
    "    for x in range(len(self['X'])):\n",
    "        ang = self['ANG'][x]\n",
    "        if selfname == 'BellTop' or selfname == 'Leg3a' or selfname == 'Leg4a' or selfname == 'Leg3aa' or selfname == 'Leg3b':\n",
    "            if ang > 45.0:\n",
    "                newang = ang-90.0 # Wrapping at 45degree in ANG - chosen arbitarily. \n",
    "            else:\n",
    "                newang = ang+90.0\n",
    "        else:\n",
    "            newang = ang+90.0\n",
    "        bang.append(newang)\n",
    "    bang = Column(bang, name='bang')    \n",
    "    try:\n",
    "        if self['bang'].any:\n",
    "            print ('column exists (bang)')\n",
    "    except:\n",
    "#         print ('column does not exist')\n",
    "        self.add_columns([bang])\n",
    "        print ('added fileprovided[bang]')\n",
    "#     return self"
   ]
  },
  {
   "cell_type": "markdown",
   "metadata": {
    "collapsed": true
   },
   "source": [
    "## Input files"
   ]
  },
  {
   "cell_type": "code",
   "execution_count": 4,
   "metadata": {},
   "outputs": [
    {
     "name": "stdout",
     "output_type": "stream",
     "text": [
      "running on mac\n"
     ]
    }
   ],
   "source": [
    "\n",
    "try:\n",
    "    print (\"running on mac\")\n",
    "\n",
    "    pol2path450 = '/Users/hparsons/Documents/EAO/Research/JellyFish/data/POL2/450/'\n",
    "    pol2path850 = '/Users/hparsons/Documents/EAO/Research/JellyFish/data/POL2/850/'\n",
    "    filamentpath = '/Users/hparsons/Documents/EAO/Research/JellyFish/data/POL2/ClumpfindFilaments/'\n",
    "    \n",
    "    BellTop3 = pol2path850 + 'ard_Bell-Top-selcat-3-3-3.FIT'\n",
    "    BellTop5 = pol2path850 + 'ard_Bell-Top-selcat-5-5-5.FIT'\n",
    "\n",
    "    Leg1a3 = pol2path850 + 'ard_Leg-1a-selcat-3-3-3.FIT'\n",
    "    Leg1a5 = pol2path850 + 'ard_Leg-1a-selcat-5-5-5.FIT'\n",
    "    Leg1b3 = pol2path850 + 'ard_Leg-1b-selcat-3-3-3.FIT'\n",
    "    Leg1b5 = pol2path850 + 'ard_Leg-1b-selcat-5-5-5.FIT'\n",
    "    Leg2a3 = pol2path850 + 'ard_Leg-2a-selcat-3-3-3.FIT'\n",
    "    Leg2a5 = pol2path850 + 'ard_Leg-2a-selcat-5-5-5.FIT'\n",
    "    Leg2b3 = pol2path850 + 'ard_Leg-2b-selcat-3-3-3.FIT'\n",
    "    Leg2b5 = pol2path850 + 'ard_Leg-2b-selcat-5-5-5.FIT'\n",
    "    Leg3a3 = pol2path850 + 'ard_Leg-3a-selcat-3-3-3.FIT'\n",
    "    Leg3a5 = pol2path850 + 'ard_Leg-3a-selcat-5-5-5.FIT'\n",
    "    \n",
    "    Leg3aa3 = pol2path850 + 'ard_Leg-3aa-selcat-3-3-3.FIT'\n",
    "    Leg3aa5 = pol2path850 + 'ard_Leg-3aa-selcat-5-5-5.FIT'\n",
    "    Leg3b3 = pol2path850 + 'ard_Leg-3b-selcat-3-3-3.FIT'\n",
    "    Leg3b5 = pol2path850 + 'ard_Leg-3b-selcat-5-5-5.FIT'\n",
    "    \n",
    "    Leg4a3 = pol2path850 + 'ard_Leg-4a-selcat-3-3-3.FIT'\n",
    "    Leg4a5 = pol2path850 + 'ard_Leg-4a-selcat-5-5-5.FIT'\n",
    "    Leg5a3 = pol2path850 + 'ard_Leg-5a-selcat-3-3-3.FIT'\n",
    "    Leg5a5 = pol2path850 + 'ard_Leg-5a-selcat-5-5-5.FIT'\n",
    "\n",
    "    BrightBlue3 = pol2path850 + 'ard_Outflow-Birght-Blue-selcat-3-3-3.FIT'\n",
    "    BrightBlue5 = pol2path850 + 'ard_Outflow-Birght-Blue-selcat-5-5-5.FIT'\n",
    "    BrightRed3 = pol2path850 + 'ard_Outflow-Birght-Red-selcat-3-3-3.FIT'\n",
    "    BrightRed5 = pol2path850 + 'ard_Outflow-Birght-Red-selcat-5-5-5.FIT'\n",
    "    Faint3 = pol2path850 + 'ard_Outflow-Faint-selcat-3-3-3.FIT'\n",
    "    Faint5 = pol2path850 + 'ard_Outflow-Faint-selcat-5-5-5.FIT'\n",
    "    \n",
    "    All3 = pol2path850 + 'selcat-3-3-3.FIT'\n",
    "    All5 =pol2path850 + 'selcat-5-5-5.FIT'\n",
    "    \n",
    "    Filament_Leg1a = filamentpath + 'Poly-Leg-1a-clumps.FIT'\n",
    "    Filament_Leg2a = filamentpath + 'Poly-Leg-2a-clumps.FIT'\n",
    "    Filament_Leg3a = filamentpath + 'Poly-Leg-3a-clumps.FIT'\n",
    "    Filament_Leg3aa = filamentpath + 'Poly-Leg-3aa-clumps.FIT'\n",
    "    Filament_Leg3b = filamentpath + 'Poly-Leg-3b-clumps.FIT'\n",
    "    Filament_Leg4a = filamentpath + 'Poly-Leg-4a-clumps.FIT'\n",
    "    \n",
    "except:\n",
    "    print (\"running on kukui\")"
   ]
  },
  {
   "cell_type": "code",
   "execution_count": 5,
   "metadata": {},
   "outputs": [],
   "source": [
    "#fits_image_filename = fits.util.get_testdata_filepath('test0.fits')\n",
    "\n",
    "# pick 3 sigma or 5 sigma\n",
    "\n",
    "sigmaclip = 3\n",
    "\n",
    "if sigmaclip == 3:\n",
    "\n",
    "    vectors_All = Table.read(All3)\n",
    "\n",
    "    vectors_BellTop = Table.read(BellTop3)\n",
    "    vectors_BrightBlue = Table.read(BrightBlue3)\n",
    "    vectors_BrightRed = Table.read(BrightRed3)\n",
    "    vectors_Faint =  Table.read(Faint3)\n",
    "\n",
    "    vectors_Leg1a = Table.read(Leg1a3)\n",
    "    vectors_Leg2a = Table.read(Leg2a3)\n",
    "    vectors_Leg1b = Table.read(Leg1b3)\n",
    "    vectors_Leg2b = Table.read(Leg2b3)\n",
    "    vectors_Leg3a = Table.read(Leg3a3)\n",
    "    vectors_Leg3aa = Table.read(Leg3aa3)\n",
    "    vectors_Leg3b = Table.read(Leg3b3)\n",
    "    vectors_Leg4a = Table.read(Leg4a3)\n",
    "    vectors_Leg5a = Table.read(Leg5a3)\n",
    "    \n",
    "elif sigmaclip == 5:\n",
    "    \n",
    "    vectors_All = Table.read(All5)\n",
    "\n",
    "    vectors_BellTop = Table.read(BellTop5)\n",
    "    vectors_BrightBlue = Table.read(BrightBlue5)\n",
    "    vectors_BrightRed = Table.read(BrightRed5)\n",
    "    vectors_Faint =  Table.read(Faint5)\n",
    "\n",
    "    vectors_Leg1a = Table.read(Leg1a5)\n",
    "    vectors_Leg2a = Table.read(Leg2a5)\n",
    "    vectors_Leg1b = Table.read(Leg1b5)\n",
    "    vectors_Leg2b = Table.read(Leg2b5)\n",
    "    vectors_Leg3a = Table.read(Leg3a5)\n",
    "    vectors_Leg3aa = Table.read(Leg3aa5)\n",
    "    vectors_Leg3b = Table.read(Leg3b5)\n",
    "    vectors_Leg4a = Table.read(Leg4a5)\n",
    "    vectors_Leg5a = Table.read(Leg5a5)    "
   ]
  },
  {
   "cell_type": "code",
   "execution_count": 6,
   "metadata": {},
   "outputs": [
    {
     "name": "stdout",
     "output_type": "stream",
     "text": [
      "column does not exist\n",
      "added fileprovided[ldeg]\n",
      "column does not exist\n",
      "added fileprovided[bdeg]\n",
      "column does not exist\n",
      "added fileprovided[ldeg]\n",
      "column does not exist\n",
      "added fileprovided[bdeg]\n",
      "column does not exist\n",
      "added fileprovided[ldeg]\n",
      "column does not exist\n",
      "added fileprovided[bdeg]\n",
      "column does not exist\n",
      "added fileprovided[ldeg]\n",
      "column does not exist\n",
      "added fileprovided[bdeg]\n",
      "column does not exist\n",
      "added fileprovided[ldeg]\n",
      "column does not exist\n",
      "added fileprovided[bdeg]\n",
      "column does not exist\n",
      "added fileprovided[ldeg]\n",
      "column does not exist\n",
      "added fileprovided[bdeg]\n",
      "column does not exist\n",
      "added fileprovided[ldeg]\n",
      "column does not exist\n",
      "added fileprovided[bdeg]\n",
      "column does not exist\n",
      "added fileprovided[ldeg]\n",
      "column does not exist\n",
      "added fileprovided[bdeg]\n",
      "column does not exist\n",
      "added fileprovided[ldeg]\n",
      "column does not exist\n",
      "added fileprovided[bdeg]\n",
      "column does not exist\n",
      "added fileprovided[ldeg]\n",
      "column does not exist\n",
      "added fileprovided[bdeg]\n",
      "column does not exist\n",
      "added fileprovided[ldeg]\n",
      "column does not exist\n",
      "added fileprovided[bdeg]\n",
      "column does not exist\n",
      "added fileprovided[ldeg]\n",
      "column does not exist\n",
      "added fileprovided[bdeg]\n",
      "column does not exist\n",
      "added fileprovided[ldeg]\n",
      "column does not exist\n",
      "added fileprovided[bdeg]\n",
      "column does not exist\n",
      "added fileprovided[ldeg]\n",
      "column does not exist\n",
      "added fileprovided[bdeg]\n",
      "added fileprovided[bang]\n",
      "added fileprovided[bang]\n",
      "added fileprovided[bang]\n",
      "added fileprovided[bang]\n",
      "added fileprovided[bang]\n",
      "added fileprovided[bang]\n",
      "added fileprovided[bang]\n",
      "added fileprovided[bang]\n",
      "added fileprovided[bang]\n",
      "added fileprovided[bang]\n",
      "added fileprovided[bang]\n",
      "added fileprovided[bang]\n",
      "added fileprovided[bang]\n",
      "added fileprovided[bang]\n"
     ]
    }
   ],
   "source": [
    "calculate_lb(vectors_All)\n",
    "\n",
    "calculate_lb(vectors_BellTop)\n",
    "calculate_lb(vectors_BrightBlue)\n",
    "calculate_lb(vectors_BrightRed)\n",
    "calculate_lb(vectors_Faint)\n",
    "\n",
    "calculate_lb(vectors_Leg1a)\n",
    "calculate_lb(vectors_Leg2a)\n",
    "calculate_lb(vectors_Leg1b)\n",
    "calculate_lb(vectors_Leg2b)\n",
    "calculate_lb(vectors_Leg3a)\n",
    "calculate_lb(vectors_Leg3aa)\n",
    "calculate_lb(vectors_Leg3b)\n",
    "calculate_lb(vectors_Leg4a)\n",
    "calculate_lb(vectors_Leg5a)\n",
    "\n",
    "calculate_bang(vectors_All,'All')\n",
    "\n",
    "calculate_bang(vectors_BellTop,'BellTop')\n",
    "calculate_bang(vectors_BrightBlue,'BrightBlue')\n",
    "calculate_bang(vectors_BrightRed,'BrightRed')\n",
    "calculate_bang(vectors_Faint,'Faint')\n",
    "\n",
    "calculate_bang(vectors_Leg1a,'Leg1a')\n",
    "calculate_bang(vectors_Leg2a,'Leg2a')\n",
    "calculate_bang(vectors_Leg1b,'Leg1b')\n",
    "calculate_bang(vectors_Leg2b,'Leg2b')\n",
    "calculate_bang(vectors_Leg3a,'Leg3a')\n",
    "calculate_bang(vectors_Leg3aa,'Leg3aa')\n",
    "calculate_bang(vectors_Leg3b,'Leg3b')\n",
    "calculate_bang(vectors_Leg4a,'Leg4a')\n",
    "calculate_bang(vectors_Leg5a,'Leg5a')"
   ]
  },
  {
   "cell_type": "markdown",
   "metadata": {},
   "source": [
    "## checking vector locations:"
   ]
  },
  {
   "cell_type": "code",
   "execution_count": 7,
   "metadata": {},
   "outputs": [
    {
     "data": {
      "image/png": "[encoded data removed]",
      "text/plain": [
       "<matplotlib.figure.Figure at 0x10eecbd68>"
      ]
     },
     "metadata": {},
     "output_type": "display_data"
    }
   ],
   "source": [
    "plt.figure()\n",
    "\n",
    "xvalue = 'ldeg'\n",
    "yvalue = 'bdeg'\n",
    "\n",
    "x = vectors_All[xvalue]\n",
    "y = vectors_All[yvalue]\n",
    "\n",
    "x1 = vectors_BellTop[xvalue]\n",
    "y1 = vectors_BellTop[yvalue]\n",
    "x2 = vectors_BrightBlue[xvalue]\n",
    "y2 = vectors_BrightBlue[yvalue]\n",
    "x3 = vectors_BrightRed[xvalue]\n",
    "y3 = vectors_BrightRed[yvalue]\n",
    "x4 = vectors_Faint[xvalue] #####\n",
    "y4 = vectors_Faint[yvalue] #####\n",
    "\n",
    "\n",
    "x5 = vectors_Leg1a[xvalue]\n",
    "y5 = vectors_Leg1a[yvalue]\n",
    "x6 = vectors_Leg2a[xvalue]\n",
    "y6 = vectors_Leg2a[yvalue]\n",
    "x7 = vectors_Leg1b[xvalue]\n",
    "y7 = vectors_Leg1b[yvalue]\n",
    "x8 = vectors_Leg2b[xvalue]\n",
    "y8 = vectors_Leg2b[yvalue]\n",
    "x9 = vectors_Leg3a[xvalue]\n",
    "y9 = vectors_Leg3a[yvalue]\n",
    "x10 = vectors_Leg3aa[xvalue]\n",
    "y10 = vectors_Leg3aa[yvalue]\n",
    "x11 = vectors_Leg3b[xvalue]\n",
    "y11 = vectors_Leg3b[yvalue]\n",
    "x12 = vectors_Leg4a[xvalue]\n",
    "y12 = vectors_Leg4a[yvalue]\n",
    "x13 = vectors_Leg5a[xvalue]\n",
    "y13 = vectors_Leg5a[yvalue]\n",
    "\n",
    "\n",
    "plt.scatter(x, y, marker='o', color='orange', s=50, label='All vectors')\n",
    "# plt.scatter(x1, y1, marker='o', color='black', s=20, label='Other')\n",
    "# plt.scatter(x2, y2, marker='o', color='blue', s=10, label='Other')\n",
    "# plt.scatter(x3, y3, marker='o', color='red', s=10, label='Other')\n",
    "\n",
    "# plt.scatter(x5, y5, marker='o', color='green', s=10, label='Leg1')\n",
    "# plt.scatter(x6, y6, marker='o', color='aqua', s=10, label='Other')\n",
    "# plt.scatter(x7, y7, marker='o', color='violet', s=10, label='Other')\n",
    "# plt.scatter(x8, y8, marker='o', color='purple', s=10, label='Other')\n",
    "#plt.scatter(x9, y9, marker='o', color='purple', s=20, label='Other')\n",
    "\n",
    "plt.scatter(x10, y10, marker='o', color='red', s=20, label='3aa')\n",
    "plt.scatter(x11, y11, marker='o', color='purple', s=20, label='3b')\n",
    "\n",
    "plt.xlabel('l')\n",
    "plt.ylabel('b')\n",
    "# plt.scatter(x4, y4, marker='o', color='white', s=10, label='Faint')\n",
    "\n",
    "\n",
    "plt.legend()\n",
    "\n",
    "plt.gca().invert_xaxis()\n",
    "\n",
    "##### WANT TO FIT to the shape of the leg...\n",
    "\n",
    "\n",
    "# z = np.polyfit(x5, y5, 1) # z,cov - > diag off the \n",
    "# f = np.poly1d(z)\n",
    "\n",
    "# print (z,f)\n",
    "# xmin = min(x5)\n",
    "# xmax = max(x5)\n",
    "\n",
    "# y1 = a * x1**(b)\n",
    "# y2 = a * x2**(b)\n",
    "# plt.loglog(self['I'],(self['P']),marker='x',linestyle='None',label=selfname)\n",
    "# plt.loglog([x1,x2],[y1,y2])\n",
    "\n",
    "#### LEG 1A does not look correct!!! - selecting all vectors excluding.... !"
   ]
  },
  {
   "cell_type": "markdown",
   "metadata": {},
   "source": [
    "## Plotting B half vector angles\n",
    "\n",
    "see: http://docs.astropy.org/en/stable/coordinates/angles.html"
   ]
  },
  {
   "cell_type": "code",
   "execution_count": 8,
   "metadata": {},
   "outputs": [],
   "source": [
    "# DO a method where self is a lit of vectors_Leg1a, vectors_Leg2a and selfnames is a list of 'Leg 1', 'Leg 2'\n",
    "\n",
    "def plot_angles_hist(self,selfname,variable,outname):   # calculate l and b is a method\n",
    "    '''plots hitograms of one or more data sets of the angles, where variable can be ANG or bang'''\n",
    "    \n",
    "    anlgevariable = variable\n",
    "    outfilename = outname\n",
    "    \n",
    "    if anlgevariable=='bang':\n",
    "        histrange = (-40.0,180.0)\n",
    "    elif anlgevariable=='ANG':\n",
    "        histrange = (-90.0,90.0)\n",
    "        \n",
    "    plt.figure()\n",
    "    plt.figure(figsize=(10,6))\n",
    "    for x in range(len(self)):\n",
    "        vectorfile = self[x]\n",
    "        vectorlabel = selfname[x]\n",
    "        \n",
    "        if x == 0: \n",
    "            pltlinestyle = '-'\n",
    "        if x == 1:\n",
    "            pltlinestyle = '--'\n",
    "\n",
    "        plt.hist(vectorfile[variable], range=histrange, label=vectorlabel, histtype='step',linestyle=pltlinestyle)\n",
    "        plt.xlabel('Angle ($^{\\circ}$)')\n",
    "        plt.ylabel('Number')\n",
    "        plt.title(variable+' inspection')\n",
    "        plt.legend()#loc='upper right')\n",
    "        \n",
    "        print ('{} ({}) = {:.1f} std = {:.1f}'.format(vectorlabel,anlgevariable,np.median(vectorfile[variable]),np.std(vectorfile[variable])))\n",
    "\n",
    "    \n",
    "    try: # if on mac save here:\n",
    "        plt.savefig('/Users/hparsons/Documents/EAO/Research/JellyFish/images/Jellyfish-'+anlgevariable+'-'+outfilename+'.pdf')\n",
    "        plt.savefig('/Users/hparsons/Documents/EAO/Research/JellyFish/images/Jellyfish-'+anlgevariable+'-'+outfilename+'.png')\n",
    "    except: # if on kukui save here:\n",
    "        plt.savefig('/export/data2/hparsons/FOP/JellyFish/images/Jellyfish-'+anlgevariable+'-'+outfilename+'.pdf')\n",
    "        plt.savefig('/export/data2/hparsons/FOP/JellyFish/images/Jellyfish-'+anlgevariable+'-'+outfilename+'.png')\n",
    " "
   ]
  },
  {
   "cell_type": "code",
   "execution_count": 9,
   "metadata": {},
   "outputs": [
    {
     "name": "stdout",
     "output_type": "stream",
     "text": [
      "Leg 1 (bang) = 47.2 std = 21.4\n",
      "Leg 2 (bang) = 48.9 std = 28.3\n",
      "Connector 1 (bang) = 102.7 std = 33.6\n",
      "Connector 2 (bang) = 82.9 std = 19.6\n"
     ]
    },
    {
     "data": {
      "text/plain": [
       "<matplotlib.figure.Figure at 0x10ef46400>"
      ]
     },
     "metadata": {},
     "output_type": "display_data"
    },
    {
     "data": {
      "image/png": "[encoded data removed]",
      "text/plain": [
       "<matplotlib.figure.Figure at 0x10edc7cc0>"
      ]
     },
     "metadata": {},
     "output_type": "display_data"
    },
    {
     "data": {
      "text/plain": [
       "<matplotlib.figure.Figure at 0x10ef46438>"
      ]
     },
     "metadata": {},
     "output_type": "display_data"
    },
    {
     "data": {
      "image/png": "[encoded data removed]",
      "text/plain": [
       "<matplotlib.figure.Figure at 0x11073d0f0>"
      ]
     },
     "metadata": {},
     "output_type": "display_data"
    }
   ],
   "source": [
    "filelist = (vectors_Leg1a,vectors_Leg2a)\n",
    "namelist = ('Leg 1','Leg 2')\n",
    "plot_angles_hist(filelist,namelist,'bang','legs12')\n",
    "\n",
    "filelist = (vectors_Leg1b,vectors_Leg2b)\n",
    "namelist = ('Connector 1','Connector 2')\n",
    "plot_angles_hist(filelist,namelist,'bang','legs12')"
   ]
  },
  {
   "cell_type": "code",
   "execution_count": 10,
   "metadata": {},
   "outputs": [
    {
     "name": "stdout",
     "output_type": "stream",
     "text": [
      "Leg 3aa (bang) = 60.7 std = 24.1\n",
      "Leg 3b (bang) = 2.7 std = 20.0\n",
      "Leg 4 (bang) = 17.6 std = 30.9\n",
      "Leg 5 (bang) = 80.2 std = 39.3\n"
     ]
    },
    {
     "data": {
      "text/plain": [
       "<matplotlib.figure.Figure at 0x10edb2c18>"
      ]
     },
     "metadata": {},
     "output_type": "display_data"
    },
    {
     "data": {
      "image/png": "[encoded data removed]",
      "text/plain": [
       "<matplotlib.figure.Figure at 0x10f440e48>"
      ]
     },
     "metadata": {},
     "output_type": "display_data"
    },
    {
     "data": {
      "text/plain": [
       "<matplotlib.figure.Figure at 0x10edb2358>"
      ]
     },
     "metadata": {},
     "output_type": "display_data"
    },
    {
     "data": {
      "image/png": "[encoded data removed]",
      "text/plain": [
       "<matplotlib.figure.Figure at 0x110b2f588>"
      ]
     },
     "metadata": {},
     "output_type": "display_data"
    }
   ],
   "source": [
    "filelist = (vectors_Leg3aa, vectors_Leg3b)\n",
    "namelist = ('Leg 3aa','Leg 3b')\n",
    "plot_angles_hist(filelist,namelist,'bang','legs3aab')\n",
    "\n",
    "filelist = (vectors_Leg4a,vectors_Leg5a)\n",
    "namelist = ('Leg 4','Leg 5')\n",
    "plot_angles_hist(filelist,namelist,'bang','legs45')"
   ]
  },
  {
   "cell_type": "code",
   "execution_count": 11,
   "metadata": {},
   "outputs": [
    {
     "name": "stdout",
     "output_type": "stream",
     "text": [
      "Blue Outflow (bang) = 130.3 std = 9.0\n",
      "Red Outflow (bang) = 100.5 std = 22.5\n",
      "Bell Top* (bang) = 16.6 std = 30.4\n",
      "Bell Bottom (Faint)** (bang) = 81.2 std = 55.7\n"
     ]
    },
    {
     "data": {
      "text/plain": [
       "<matplotlib.figure.Figure at 0x10ef0d588>"
      ]
     },
     "metadata": {},
     "output_type": "display_data"
    },
    {
     "data": {
      "image/png": "[encoded data removed]",
      "text/plain": [
       "<matplotlib.figure.Figure at 0x110ab2cc0>"
      ]
     },
     "metadata": {},
     "output_type": "display_data"
    },
    {
     "data": {
      "text/plain": [
       "<matplotlib.figure.Figure at 0x110b5cc88>"
      ]
     },
     "metadata": {},
     "output_type": "display_data"
    },
    {
     "data": {
      "image/png": "[encoded data removed]",
      "text/plain": [
       "<matplotlib.figure.Figure at 0x110fe1e80>"
      ]
     },
     "metadata": {},
     "output_type": "display_data"
    }
   ],
   "source": [
    "filelist = (vectors_BrightBlue, vectors_BrightRed)\n",
    "namelist = ('Blue Outflow','Red Outflow')\n",
    "plot_angles_hist(filelist,namelist,'bang','outflow')\n",
    "\n",
    "filelist = (vectors_BellTop,vectors_Faint)\n",
    "namelist = ('Bell Top*','Bell Bottom (Faint)**')\n",
    "plot_angles_hist(filelist,namelist,'bang','Bell')"
   ]
  },
  {
   "cell_type": "code",
   "execution_count": null,
   "metadata": {},
   "outputs": [],
   "source": []
  },
  {
   "cell_type": "code",
   "execution_count": 12,
   "metadata": {},
   "outputs": [
    {
     "data": {
      "image/png": "[encoded data removed]",
      "text/plain": [
       "<matplotlib.figure.Figure at 0x110b80080>"
      ]
     },
     "metadata": {},
     "output_type": "display_data"
    }
   ],
   "source": [
    "n_groups = 10\n",
    "\n",
    "variable= 'bang'\n",
    "\n",
    "region_median = (np.median(vectors_Leg1a[variable]), np.median(vectors_Leg2a[variable]), np.median(vectors_Leg3aa[variable]), np.median(vectors_Leg3b[variable]), np.median(vectors_Leg4a[variable]), np.median(vectors_Leg5a[variable]), np.median(vectors_BellTop[variable]), np.median(vectors_BrightBlue[variable]), np.median(vectors_BrightRed[variable]), np.median(vectors_Faint[variable]))\n",
    "region_std = (np.std(vectors_Leg1a[variable]), np.std(vectors_Leg2a[variable]), np.std(vectors_Leg3aa[variable]), np.std(vectors_Leg3b[variable]), np.std(vectors_Leg4a[variable]), np.std(vectors_Leg5a[variable]), np.std(vectors_BellTop[variable]), np.std(vectors_BrightBlue[variable]), np.std(vectors_BrightRed[variable]),np.std(vectors_Faint[variable]))\n",
    "\n",
    "index = np.arange(n_groups)\n",
    "\n",
    "\n",
    "region_names = ('Leg 1', 'Leg 2', 'Leg 3aa', 'Leg 3b', 'Leg 4', 'Leg 5', 'Bell Top','Blue', 'Red','Faint')\n",
    "plt.figure(figsize=(10,6))\n",
    "\n",
    "plt.bar(index, region_median, align='center', alpha=0.75, yerr=region_std, capsize=3)\n",
    "plt.xticks(index, region_names)\n",
    "plt.ylabel('B Angle ($^{\\circ}$)')\n",
    "plt.xlabel('Region')\n",
    "\n",
    "#plt = figure(figsize=(8,8))\n",
    "\n",
    "\n",
    "\n",
    "try: # if on mac save here:\n",
    "    plt.savefig('/Users/hparsons/Documents/EAO/Research/JellyFish/images/Jellyfish-B-angles-summary.pdf')\n",
    "    plt.savefig('/Users/hparsons/Documents/EAO/Research/JellyFish/images/Jellyfish-B-angles-summary.png')\n",
    "except: # if on kukui save here:\n",
    "    plt.savefig('/export/data2/hparsons/FOP/JellyFish/images/Jellyfish-B-angles-summary.pdf')\n",
    "    plt.savefig('/export/data2/hparsons/FOP/JellyFish/images/Jellyfish-B-angles-summary.png')"
   ]
  },
  {
   "cell_type": "markdown",
   "metadata": {},
   "source": [
    "## Errors"
   ]
  },
  {
   "cell_type": "code",
   "execution_count": 13,
   "metadata": {},
   "outputs": [
    {
     "name": "stdout",
     "output_type": "stream",
     "text": [
      "median DANG = 6.050469398498535\n"
     ]
    },
    {
     "data": {
      "text/plain": [
       "<matplotlib.figure.Figure at 0x111057b00>"
      ]
     },
     "metadata": {},
     "output_type": "display_data"
    },
    {
     "data": {
      "image/png": "[encoded data removed]",
      "text/plain": [
       "<matplotlib.figure.Figure at 0x111057e48>"
      ]
     },
     "metadata": {},
     "output_type": "display_data"
    }
   ],
   "source": [
    "variable = 'DANG'\n",
    "\n",
    "plt.figure()\n",
    "plt.figure(figsize=(10,6))\n",
    "plt.hist(vectors_All[variable], label='All', histtype='step') \n",
    "plt.xlabel('Error in angle ($^{\\circ}$)')\n",
    "plt.ylabel('Number')\n",
    "\n",
    "print ('median DANG = {}'.format(np.median(vectors_All[variable])))\n",
    "\n",
    "\n",
    "try: # if on mac save here:\n",
    "    plt.savefig('/Users/hparsons/Documents/EAO/Research/JellyFish/images/Jellyfish-error-in-B-angles.pdf')\n",
    "    plt.savefig('/Users/hparsons/Documents/EAO/Research/JellyFish/images/Jellyfish-error-in-B-angles.png')\n",
    "except: # if on kukui save here:\n",
    "    plt.savefig('/export/data2/hparsons/FOP/JellyFish/images/Jellyfish-error-in-B-angles.pdf')\n",
    "    plt.savefig('/export/data2/hparsons/FOP/JellyFish/images/Jellyfish-error-in-B-angles.png')\n",
    "    \n"
   ]
  },
  {
   "cell_type": "markdown",
   "metadata": {},
   "source": [
    "# Polar plots"
   ]
  },
  {
   "cell_type": "code",
   "execution_count": 25,
   "metadata": {},
   "outputs": [],
   "source": [
    "#Steve suggested polar plot: this is known as a rose diagram.\n",
    "\n",
    "\n",
    "\n",
    "# listoffiles = (vectors_Leg1a,vectors_Leg2a)\n",
    "# listoffiles = (vectors_BellTop,)\n",
    "# listoffiles = (vectors_BrightBlue,vectors_Leg3a,vectors_BellTop,)\n",
    "# listoffiles = (vectors_All,)\n",
    "\n",
    "# DO a method where self is a lit of vectors_Leg1a, vectors_Leg2a and selfnames is a list of 'Leg 1', 'Leg 2'\n",
    "\n",
    "def plot_angles_polar(self):   # calculate l and b is a method maybe add: ,selfname,outname\n",
    "    '''plots polar distribution of magnetci field angles\n",
    "    where self is a table containing the vectors you wish to plot \n",
    "    i.e vectors_Leg3aa,vectors_Leg3b\n",
    "    '''\n",
    "    i=0\n",
    "    for x in range(len(self)):\n",
    "        i=i+1\n",
    "        vectorfile = self[x]\n",
    "        angles = vectorfile['bang'] # angle either from POL-2 rotated by 90dgrees\n",
    "###         dangles =  vectorfile['DANG'] # error in angles\n",
    "###         percentage = vectorfile['P']\n",
    " \n",
    "        aglebinwidth_deg = 10###5 ####\n",
    "        anglebinwidth_rad = np.radians(aglebinwidth_deg)\n",
    "        anglebinwidth_rad_list = np.array([anglebinwidth_rad for i in range(5,185,aglebinwidth_deg)]) # widths for each bin\n",
    "\n",
    "        anglebins_deg = [i for i in range(0,185,aglebinwidth_deg)] # bins every 5 degrees\n",
    "    \n",
    "        theta_deg = [i+2.5 for i in range(0,180,aglebinwidth_deg)] # middle of bin\n",
    "        theta_radians = np.array(np.radians(theta_deg)) # middle of bin in radians\n",
    "\n",
    "#     print ('\\nangles for bin edges in degrees: {}'.format(anglebins_deg))\n",
    "#     print ('\\nangles for bin edges in radians: {}'.format(anglebins_rad))\n",
    "#     print ('\\nangles for plotting in radians {}'.format(theta_radians ))\n",
    "#     print ('\\nWidths of bins in radians: {}'.format(anglebinwidth_rad_list))\n",
    "\n",
    "        wholeanglevalue = []\n",
    "        for y in range(len(angles)): # want angles in whole numbers for histogram tool\n",
    "            anglevalue = np.int(format(angles[y], '.0f'))\n",
    "            wholeanglevalue.append(anglevalue)\n",
    "\n",
    "#     print ('\\narray of POL-2 angles {}'.format(wholeanglevalue))\n",
    "        \n",
    "        hisout = np.histogram(wholeanglevalue, bins=anglebins_deg) # creat histogram from data for each specified bin interval\n",
    "        \n",
    "        angle_frequency = hisout[0] # this is our output\n",
    "        angle_bins = hisout[1] # this was our input\n",
    "\n",
    "#     print ('\\nangle frequency = {}'.format(angle_frequency))\n",
    "\n",
    "\n",
    "        theta = theta_radians\n",
    "        radii = angle_frequency\n",
    "        widths = anglebinwidth_rad_list\n",
    "\n",
    "#     print ('\\nlength of arrays = {} {} {}'.format(len(theta), len(radii), len(width)))\n",
    "#     print ('\\ntype of arrays = {} {} {}'.format(type(theta), type(radii), type(width)))\n",
    "\n",
    "        if i == 1:\n",
    "            theta1 = theta\n",
    "            radii1 = radii\n",
    "            barcolor1 = 'teal'\n",
    "        if i == 2:\n",
    "            theta2 = theta\n",
    "            radii2 = radii        \n",
    "            barcolor2 = 'goldenrod'\n",
    "        if i == 3:\n",
    "            theta3 = theta\n",
    "            radii3 = radii        \n",
    "            barcolor3 = 'darkorchid'\n",
    "\n",
    "        \n",
    "    fig = figure(figsize=(9,9))\n",
    "    ax = fig.add_axes([0.1, 0.1, 0.8, 0.8], polar=True) # l,b,w,h\n",
    "\n",
    "    bars = ax.bar(theta1, radii1, width=widths*0.9, bottom=0.0,color=barcolor1,alpha=0.6) # at minimum I will show one dataset\n",
    "    \n",
    "    if i > 1:\n",
    "        bars = ax.bar(theta2, radii2, width=widths*0.9, bottom=0.0,color=barcolor2,alpha=0.6)\n",
    "\n",
    "    if i >2:\n",
    "        bars = ax.bar(theta3, radii3, width=widths*0.9, bottom=0.0,color=barcolor3,alpha=0.6,label='dk')    \n",
    "\n",
    "\n",
    "## Use custom colors and opacity\n",
    "# for r, bar in zip(radii, bars):\n",
    "#     bar.set_facecolor(plt.cm.jet(r / 10.)) # viridis or jet is a colour selection\n",
    "#     bar.set_alpha(0.5)\n",
    "\n",
    "    show()\n",
    "\n",
    "# colours: https://matplotlib.org/2.0.0/examples/color/named_colors.html"
   ]
  },
  {
   "cell_type": "code",
   "execution_count": 31,
   "metadata": {},
   "outputs": [
    {
     "data": {
      "image/png": "[encoded data removed]",
      "text/plain": [
       "<matplotlib.figure.Figure at 0x1120b6160>"
      ]
     },
     "metadata": {},
     "output_type": "display_data"
    }
   ],
   "source": [
    "# listoffiles = (vectors_Leg1a,vectors_Leg2a)\n",
    "# listoffiles = (vectors_Leg1a,vectors_Leg2a)\n",
    "\n",
    "# listoffiles = (vectors_Leg1b,vectors_Leg2b)\n",
    "\n",
    "listoffiles = (vectors_Leg3aa,vectors_Leg3b)\n",
    "\n",
    "listoffiles = (vectors_Leg4a,vectors_Leg5a)\n",
    "\n",
    "listoffiles = (vectors_BrightBlue,vectors_BrightRed)\n",
    "\n",
    "listoffiles = (vectors_Faint,vectors_BellTop)\n",
    "\n",
    "\n",
    "plot_angles_polar(listoffiles)"
   ]
  },
  {
   "cell_type": "code",
   "execution_count": null,
   "metadata": {},
   "outputs": [],
   "source": [
    "import plotly\n",
    "plotly.tools.set_credentials_file(username='H.parsons', api_key='mLM1jRyLirEC4fWdJG6T')\n",
    "plotly.__version__"
   ]
  },
  {
   "cell_type": "code",
   "execution_count": null,
   "metadata": {},
   "outputs": [],
   "source": [
    "import plotly.plotly as py\n",
    "import plotly.graph_objs as go\n",
    "\n",
    "data = [\n",
    "    go.Scatterpolar(\n",
    "        r = [0.5,1,2,2.5,3,4],\n",
    "        theta = [35,70,120,155,205,240],\n",
    "        mode = 'markers',\n",
    "        marker = dict(\n",
    "            color = 'peru'\n",
    "        )\n",
    "    )\n",
    "]\n",
    "\n",
    "layout = go.Layout(\n",
    "    showlegend = False\n",
    ")\n",
    "\n",
    "fig = go.Figure(data=data, layout=layout)\n",
    "py.iplot(fig, filename = 'polar-basic')\n"
   ]
  },
  {
   "cell_type": "code",
   "execution_count": null,
   "metadata": {},
   "outputs": [],
   "source": [
    "import plotly.plotly as py\n",
    "import plotly.graph_objs as go\n",
    "\n",
    "data = [\n",
    "    go.Scatterpolar(\n",
    "        r = [0, 1.5, 1.5, 0, 2.5, 2.5, 0],\n",
    "        theta = [0, 10, 25, 0, 205, 215, 0],\n",
    "        mode = 'lines',\n",
    "        fill = 'toself',\n",
    "        fillcolor = '#709BFF',\n",
    "        line =  dict(\n",
    "            color = 'black'\n",
    "        )\n",
    "    ),\n",
    "    go.Scatterpolar(\n",
    "        r = [0, 3.5, 3.5, 0],\n",
    "        theta = [0, 55, 75, 0],\n",
    "        mode = 'lines',\n",
    "        fill = 'toself',\n",
    "        fillcolor = '#E4FF87',\n",
    "        line =  dict(\n",
    "            color = 'black'\n",
    "        )\n",
    "    ),\n",
    "    go.Scatterpolar(\n",
    "        r = [0, 4.5, 4.5, 0, 4.5, 4.5, 0],\n",
    "        theta = [0, 100, 120, 0, 305, 320, 0],\n",
    "        mode = 'lines',\n",
    "        fill = 'toself',\n",
    "        fillcolor = '#FFAA70',\n",
    "        line =  dict(\n",
    "            color = 'black'\n",
    "        )\n",
    "    ),\n",
    "    go.Scatterpolar(\n",
    "        r = [0, 4, 4, 0],\n",
    "        theta = [0, 165, 195, 0],\n",
    "        mode = 'lines',\n",
    "        fill = 'toself',\n",
    "        fillcolor = '#FFDF70',\n",
    "        line =  dict(\n",
    "            color = 'black'\n",
    "        )\n",
    "    ),\n",
    "    go.Scatterpolar(\n",
    "        r = [0, 3, 3, 0],\n",
    "        theta = [0, 262.5, 277.5, 0],\n",
    "        mode = 'lines',\n",
    "        fill = 'toself',\n",
    "        fillcolor = '#B6FFB4',\n",
    "        line =  dict(\n",
    "            color = 'black'\n",
    "        )\n",
    "    )\n",
    "]\n",
    "\n",
    "layout = go.Layout(\n",
    "    polar = dict(\n",
    "        radialaxis = dict(\n",
    "            visible = True,\n",
    "            range = [0,5]\n",
    "        )\n",
    "    ),\n",
    "    showlegend = False\n",
    ")\n",
    "\n",
    "fig = go.Figure(data=data, layout=layout)\n",
    "py.iplot(fig, filename = 'polar-area')"
   ]
  },
  {
   "cell_type": "code",
   "execution_count": null,
   "metadata": {},
   "outputs": [],
   "source": []
  },
  {
   "cell_type": "code",
   "execution_count": null,
   "metadata": {},
   "outputs": [],
   "source": []
  },
  {
   "cell_type": "code",
   "execution_count": null,
   "metadata": {},
   "outputs": [],
   "source": []
  },
  {
   "cell_type": "code",
   "execution_count": null,
   "metadata": {
    "collapsed": true
   },
   "outputs": [],
   "source": []
  },
  {
   "cell_type": "code",
   "execution_count": null,
   "metadata": {
    "collapsed": true
   },
   "outputs": [],
   "source": []
  },
  {
   "cell_type": "code",
   "execution_count": null,
   "metadata": {},
   "outputs": [],
   "source": [
    "plt.figure()\n",
    "\n",
    "xvalue = 'I'\n",
    "yvalue = 'P'\n",
    "\n",
    "x = vectors_All[xvalue]\n",
    "y = vectors_All[yvalue]\n",
    "\n",
    "x1 = vectors_BellTop[xvalue]\n",
    "y1 = vectors_BellTop[yvalue]\n",
    "\n",
    "x2 = vectors_BrightBlue[xvalue]\n",
    "y2 = vectors_BrightBlue[yvalue]\n",
    "\n",
    "x3 = vectors_BrightRed[xvalue]\n",
    "y3 = vectors_BrightRed[yvalue]\n",
    "\n",
    "x4 = vectors_Faint[xvalue]\n",
    "y4 = vectors_Faint[yvalue]\n",
    "\n",
    "x5 = vectors_Leg1a[xvalue]\n",
    "y5 = vectors_Leg1a[yvalue]\n",
    "\n",
    "x6 = vectors_Leg2a[xvalue]\n",
    "y6 = vectors_Leg2a[yvalue]\n",
    "\n",
    "x7 = vectors_Leg3a[xvalue]\n",
    "y7 = vectors_Leg3a[yvalue]\n",
    "\n",
    "x8 = vectors_Leg4a[xvalue]\n",
    "y8 = vectors_Leg4a[yvalue]\n",
    "\n",
    "x9 = vectors_Leg5a[xvalue]\n",
    "y9 = vectors_Leg5a[yvalue]\n",
    "\n",
    "plt.xlabel('Intensity (mJy/beam)')\n",
    "plt.ylabel('Polarization (%)')\n",
    "\n",
    "plt.loglog(x1, y1,marker='x',linestyle='None',label='BellTop')#, marker='o', color='orange', s=50, label='All vectors')\n",
    "plt.loglog(x2, y2,marker='x',linestyle='None',label='Blue')#, marker='o', color='orange', s=50, label='All vectors')\n",
    "plt.loglog(x3, y3,marker='x',linestyle='None',label='Red')#, marker='o', color='orange', s=50, label='All vectors')\n",
    "# plt.loglog(x4, y4,marker='x',linestyle='None',label='Bell Bottom (Faint)')#, marker='o', color='orange', s=50, label='All vectors')\n",
    "plt.loglog(x5, y5,marker='x',linestyle='None',label='Leg 1')#, marker='o', color='orange', s=50, label='All vectors')\n",
    "plt.loglog(x6, y6,marker='x',linestyle='None',label='Leg 2')#, marker='o', color='orange', s=50, label='All vectors')\n",
    "plt.loglog(x7, y7,marker='x',linestyle='None',label='Leg 3')#, marker='o', color='orange', s=50, label='All vectors')\n",
    "plt.loglog(x8, y8,marker='x',linestyle='None',label='Leg 4')#, marker='o', color='orange', s=50, label='All vectors')\n",
    "plt.loglog(x9, y9,marker='x',linestyle='None',label='Leg 5')#, marker='o', color='orange', s=50, label='All vectors')\n",
    "\n",
    "\n",
    "plt.legend()#loc='upper right')\n",
    "\n",
    "# plt.scatter(x6, y6, marker='o', color='blue', s=10, label='Other')\n"
   ]
  },
  {
   "cell_type": "code",
   "execution_count": null,
   "metadata": {
    "collapsed": true
   },
   "outputs": [],
   "source": [
    "# want to make a method for fitting and plotting polarization efficiency plots:\n",
    "\n",
    "def polarization_efficiency(self,selfname): # calculates the B angle (POL-2 angle + 90)\n",
    "    '''fitting and plotting polarization efficiency plots (I vs P)'''\n",
    "\n",
    "    logx = np.log10(self['I'])\n",
    "    logy = np.log10(self['P'])\n",
    "\n",
    "    z = np.polyfit(logx, logy, 1) # z,cov - > diag off the \n",
    "    f = np.poly1d(z)\n",
    "    logx_fit = np.linspace(min(logx), max(logx), 50)\n",
    "    logy_fit = f(logx_fit)\n",
    "#     plt.plot(logx,logy,'o', logx_fit, logy_fit)\n",
    "#     plt.title('')\n",
    "#     plt.xlabel('log ()')\n",
    "#     plt.ylabel('log()')\n",
    "#     plt.show()\n",
    "    print ('z:{}'.format(z))\n",
    "#     print ('cov:{}'.format(cov))\n",
    "\n",
    "    print ('\\n{}\\nfunction in log log space:{}'.format(selfname,f))\n",
    "    b = f[1]\n",
    "    loga = f[0]\n",
    "    a = 10**loga\n",
    "    print ('loga = {}, a = {}, b = {}'.format(loga,a,b))\n",
    "\n",
    "    x1 = min(self['I'])\n",
    "    x2 = max(self['I'])\n",
    "\n",
    "    y1 = a * x1**(b)\n",
    "    y2 = a * x2**(b)\n",
    "    plt.loglog(self['I'],(self['P']),marker='x',linestyle='None',label=selfname)\n",
    "    plt.loglog([x1,x2],[y1,y2])\n",
    "    plt.xlabel('Intensity (mJy/beam)')\n",
    "    plt.ylabel('Polarization (%)')\n",
    "    plt.legend()#loc='upper right')\n",
    "    \n",
    "    try: # if on mac save here:\n",
    "        plt.savefig('/Users/hparsons/Documents/EAO/Research/JellyFish/images/Jellyfish-B-efficiency-{}.pdf'.format(selfname))\n",
    "        plt.savefig('/Users/hparsons/Documents/EAO/Research/JellyFish/images/Jellyfish-B-efficiency-{}.png'.format(selfname))\n",
    "    except: # if on kukui save here:\n",
    "        plt.savefig('/export/data2/hparsons/FOP/JellyFish/images/Jellyfish-B-efficiency-{}.pdf'.format(selfname))\n",
    "        plt.savefig('/export/data2/hparsons/FOP/JellyFish/images/Jellyfish-B-efficiency-{}.png'.format(selfname))\n",
    " "
   ]
  },
  {
   "cell_type": "code",
   "execution_count": null,
   "metadata": {},
   "outputs": [],
   "source": [
    "polarization_efficiency(vectors_All,'All')\n",
    "\n"
   ]
  },
  {
   "cell_type": "code",
   "execution_count": null,
   "metadata": {},
   "outputs": [],
   "source": [
    "# polarization_efficiency(vectors_All)\n",
    "polarization_efficiency(vectors_Leg1a,'Leg 1')\n",
    "polarization_efficiency(vectors_Leg2a,'Leg 2')\n",
    "# polarization_efficiency(vectors_Leg3a,'Leg 3')\n",
    "# polarization_efficiency(vectors_Leg4a,'Leg 4')\n",
    "# polarization_efficiency(vectors_Leg5a,'Leg 5')\n",
    "\n",
    "\n",
    "# polarization_efficiency(vectors_Leg1b,'connector 1')\n",
    "# polarization_efficiency(vectors_Leg2b,'connector 2')\n",
    "\n",
    "polarization_efficiency(vectors_BrightBlue,'Blue')\n",
    "polarization_efficiency(vectors_BrightRed,'Red')\n",
    "# polarization_efficiency(vectors_BellTop,'BellTop')"
   ]
  },
  {
   "cell_type": "markdown",
   "metadata": {
    "collapsed": true
   },
   "source": [
    "## Filamets fitting:"
   ]
  },
  {
   "cell_type": "code",
   "execution_count": null,
   "metadata": {},
   "outputs": [],
   "source": [
    "filament_Leg1a = Table.read(Filament_Leg1a)\n",
    "filament_Leg2a = Table.read(Filament_Leg2a)\n",
    "filament_Leg3a = Table.read(Filament_Leg3a)\n",
    "filament_Leg3aa = Table.read(Filament_Leg3aa)\n",
    "filament_Leg3b = Table.read(Filament_Leg3b)\n",
    "filament_Leg4a = Table.read(Filament_Leg4a)\n",
    "\n",
    "filament_Leg1a_u = filament_Leg1a[filament_Leg1a['PIDENT'] < 6.5] # needs work\n"
   ]
  },
  {
   "cell_type": "code",
   "execution_count": null,
   "metadata": {},
   "outputs": [],
   "source": [
    "filament_Leg1a_u"
   ]
  },
  {
   "cell_type": "code",
   "execution_count": null,
   "metadata": {},
   "outputs": [],
   "source": [
    "\n",
    "def filamet_angle(self,selfname): # calculates the B angle (POL-2 angle + 90)\n",
    "    '''fitting and plotting filamets as defined by clumpfind'''\n",
    "\n",
    "    plt.figure()\n",
    "    plt.plot(self['Peak1'],self['Peak2'],marker='x',linestyle='None',label=selfname)\n",
    "\n",
    "    xvalues = self['Peak1']\n",
    "    yvalues = self['Peak2']\n",
    "\n",
    "    z = np.polyfit(xvalues, yvalues, 1) # z,cov - > diag off the \n",
    "    f = np.poly1d(z)\n",
    "\n",
    "#    print (z,f)\n",
    "    c = f[0]\n",
    "    a = f[1]\n",
    "\n",
    "#    print (a,c)\n",
    "    x1 = min(xvalues)\n",
    "    x2 = max(xvalues)\n",
    "    y1 = (a * x1) + c\n",
    "    y2 = (a * x2) + c\n",
    "\n",
    "    # POL-2 Angle Theta is defined as East from North - so values presented here ARE CORRECT FOR ASTRONOMY!\n",
    "    \n",
    "    theta = np.degrees(np.arctan((y2-y1)/(x2-x1)))\n",
    "    thetapol2 = theta\n",
    "    \n",
    "    plt.plot([x1,x2],[y1,y2],marker='x',linestyle='-',label='{:.0f}'.format(thetapol2))\n",
    "    plt.legend()#loc='upper right')\n",
    "    plt.gca().invert_xaxis()\n",
    "    return thetapol2"
   ]
  },
  {
   "cell_type": "code",
   "execution_count": null,
   "metadata": {},
   "outputs": [],
   "source": [
    "thetapol2_Leg1a = filamet_angle(filament_Leg1a,'Leg 1a')   ##### ISSUE\n",
    "thetapol2_Leg1a_u = filamet_angle(filament_Leg1a_u,'Leg 1a_u')   ##### ISSUE\n",
    "thetapol2_Leg2a = filamet_angle(filament_Leg2a,'Leg 2a')\n",
    "thetapol2_Leg3aa = filamet_angle(filament_Leg3aa,'Leg 3aa')   ##### ISSUE\n",
    "thetapol2_Leg3b = filamet_angle(filament_Leg3b,'Leg 3b')\n",
    "thetapol2_Leg4a = filamet_angle(filament_Leg4a,'Leg 4a')"
   ]
  },
  {
   "cell_type": "code",
   "execution_count": null,
   "metadata": {
    "scrolled": true
   },
   "outputs": [],
   "source": [
    "print (thetapol2_Leg2a)\n",
    "print (thetapol2_Leg4a)"
   ]
  },
  {
   "cell_type": "code",
   "execution_count": null,
   "metadata": {},
   "outputs": [],
   "source": []
  },
  {
   "cell_type": "code",
   "execution_count": null,
   "metadata": {},
   "outputs": [],
   "source": []
  },
  {
   "cell_type": "code",
   "execution_count": null,
   "metadata": {},
   "outputs": [],
   "source": []
  },
  {
   "cell_type": "code",
   "execution_count": null,
   "metadata": {},
   "outputs": [],
   "source": []
  },
  {
   "cell_type": "code",
   "execution_count": null,
   "metadata": {},
   "outputs": [],
   "source": []
  },
  {
   "cell_type": "code",
   "execution_count": null,
   "metadata": {},
   "outputs": [],
   "source": []
  },
  {
   "cell_type": "code",
   "execution_count": null,
   "metadata": {
    "collapsed": true
   },
   "outputs": [],
   "source": []
  },
  {
   "cell_type": "code",
   "execution_count": null,
   "metadata": {},
   "outputs": [],
   "source": [
    "#Steve suggested polar plot: this is known as a rose diagram.\n",
    "# if median error is 6deg then maybe plot rose diagram into 5deg ranges\n",
    "\n",
    "import numpy as np\n",
    "import matplotlib.cm as cm\n",
    "from matplotlib.pyplot import figure, show, rc\n",
    "\n",
    "\n",
    "# force square figure and square axes, looks better for polar\n",
    "fig = figure(figsize=(8,8))\n",
    "\n",
    "ax = fig.add_axes([0.1, 0.1, 0.8, 0.8], polar=True) # l,b,w,h\n",
    "\n",
    "variable = 'bang'\n",
    "\n",
    "listoffiles = (vectors_Leg1a,vectors_Leg2a,vectors_Leg3aa,vectors_Leg3b,vectors_Leg4a,vectors_Leg5a,vectors_BrightBlue,vectors_BrightRed,vectors_BellTop,vectors_Faint)\n",
    "\n",
    "theta_value = []\n",
    "theta_sigma = []\n",
    "theta_polarization = []\n",
    "\n",
    "for x in range(len(listoffiles)):\n",
    "    vectorfile = listoffiles[x]\n",
    "    angles = vectorfile[variable] # angle either from POL-2 or rotated by 90dgrees - Position\n",
    "    dangles =  vectorfile['DANG'] # error in angles - Width\n",
    "    percentage = vectorfile['P'] # percentage polarization - Length\n",
    "    \n",
    "    angles_median_deg = np.median(angles)\n",
    "    angles_median_rad = np.radians(angles_median_deg)\n",
    "    theta_value.append(angles_median_rad)\n",
    "    \n",
    "    angles_std_deg = np.std(dangles)\n",
    "    angles_median_rad = np.radians(angles_std_deg)\n",
    "    theta_sigma.append(angles_median_rad)\n",
    "    \n",
    "    polarization = np.median(percentage)\n",
    "    theta_polarization.append(polarization)\n",
    "    \n",
    "#     print (angles_median_rad)\n",
    "\n",
    "#     print (theta_value,theta_sigma,theta_polarization)\n",
    "\n",
    "\n",
    "    theta = theta_value\n",
    "    radii = theta_polarization\n",
    "    width = theta_sigma\n",
    "\n",
    "\n",
    "bars = ax.bar(theta, radii, width=width, bottom=0.0)\n",
    "\n",
    "\n",
    "# # Use custom colors and opacity\n",
    "# for r, bar in zip(radii, bars):\n",
    "#     bar.set_facecolor(plt.cm.jet(r / 10.)) # viridis or jet is a colour selection\n",
    "#     bar.set_alpha(0.5)\n",
    "\n",
    "show()\n",
    "\n",
    "\n",
    "# https://stackoverflow.com/questions/32232285/how-to-change-ticklabels-within-figure-created-with-axisartist?lq=1"
   ]
  }
 ],
 "metadata": {
  "kernelspec": {
   "display_name": "Python 3",
   "language": "python",
   "name": "python3"
  },
  "language_info": {
   "codemirror_mode": {
    "name": "ipython",
    "version": 3
   },
   "file_extension": ".py",
   "mimetype": "text/x-python",
   "name": "python",
   "nbconvert_exporter": "python",
   "pygments_lexer": "ipython3",
   "version": "3.6.1"
  }
 },
 "nbformat": 4,
 "nbformat_minor": 2
}
